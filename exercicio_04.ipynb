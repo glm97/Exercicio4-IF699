{
  "nbformat": 4,
  "nbformat_minor": 0,
  "metadata": {
    "colab": {
      "name": "exercicio-04",
      "provenance": [],
      "collapsed_sections": [],
      "toc_visible": true
    },
    "kernelspec": {
      "name": "python3",
      "display_name": "Python 3"
    },
    "language_info": {
      "name": "python"
    }
  },
  "cells": [
    {
      "cell_type": "code",
      "metadata": {
        "id": "LM3XG2J6gxO_"
      },
      "source": [
        "# aplicar k-means = {2,3,4,5,6} para UMA classe DONE\n",
        "# selecionar melhor k com cv DONE\n",
        "# gerar k grupos para a classe DONE\n",
        "# usar meta-labels como entrada para naive bayes\n",
        "# usar cross-validation no naive bayes\n",
        "# rodar naive bayes sem agrupamento \n",
        "# rodar 1-NN "
      ],
      "execution_count": 61,
      "outputs": []
    },
    {
      "cell_type": "markdown",
      "metadata": {
        "id": "7I1o_xQmLNyi"
      },
      "source": [
        "## Imports"
      ]
    },
    {
      "cell_type": "code",
      "metadata": {
        "id": "JSqb2GagLQpD"
      },
      "source": [
        "import pandas as pd\n",
        "import numpy as np\n",
        "\n",
        "from sklearn.model_selection import cross_val_score\n",
        "from sklearn.cluster import KMeans\n",
        "from sklearn.naive_bayes import GaussianNB\n",
        "from sklearn.neighbors import KNeighborsClassifier\n",
        "from sklearn.metrics import make_scorer, f1_score"
      ],
      "execution_count": 62,
      "outputs": []
    },
    {
      "cell_type": "markdown",
      "metadata": {
        "id": "UldFBmvzluPy"
      },
      "source": [
        "## Funções"
      ]
    },
    {
      "cell_type": "code",
      "metadata": {
        "id": "-ZSV3nbZlv9G"
      },
      "source": [
        "def generate_meta_classes(X, y):\n",
        "  # para cada k rodar k-means com cross-validation\n",
        "  k_list = [2,3,4,5,6]\n",
        "  k_scores = []\n",
        "  for k in k_list:\n",
        "    kmeans = KMeans(n_clusters=k, random_state=0)\n",
        "    # usa o numero default de folds = 5\n",
        "    scores = cross_val_score(estimator=kmeans, X=X, y=y)\n",
        "    # salva a média dos scores de cada fold no cv\n",
        "    k_scores.append(np.mean(scores))\n",
        "\n",
        "  # escolhe k de acordo com o maior score do k-means\n",
        "  best_score = max(k_scores)\n",
        "  best_k_ind = k_scores.index(best_score)\n",
        "  best_k = k_list[best_k_ind]\n",
        "\n",
        "  # roda novamente o k-means com o k ideal\n",
        "  kmeans = KMeans(n_clusters = best_k, random_state=0)\n",
        "  kmeans.fit(X)\n",
        "  return best_k, kmeans.labels_"
      ],
      "execution_count": 63,
      "outputs": []
    },
    {
      "cell_type": "code",
      "metadata": {
        "id": "m7FwOS8lxFJz"
      },
      "source": [
        "def gnb_clf(X, y):\n",
        "  gnb = GaussianNB()\n",
        "  gnb_scores = cross_val_score(estimator=gnb, X=X, y=y, scoring='f1_weighted')\n",
        "  gnb_score = np.mean(gnb_scores)\n",
        "  return gnb_score"
      ],
      "execution_count": 64,
      "outputs": []
    },
    {
      "cell_type": "markdown",
      "metadata": {
        "id": "eKyVbePOLRxd"
      },
      "source": [
        "## Base 01"
      ]
    },
    {
      "cell_type": "code",
      "metadata": {
        "colab": {
          "base_uri": "https://localhost:8080/",
          "height": 241
        },
        "id": "9eMq-k2KLTH_",
        "outputId": "507343f6-7c14-46d5-b588-968ec9e8bfb3"
      },
      "source": [
        "df01 = pd.read_csv('/content/base01.csv')\n",
        "df01.head()"
      ],
      "execution_count": 65,
      "outputs": [
        {
          "output_type": "execute_result",
          "data": {
            "text/html": [
              "<div>\n",
              "<style scoped>\n",
              "    .dataframe tbody tr th:only-of-type {\n",
              "        vertical-align: middle;\n",
              "    }\n",
              "\n",
              "    .dataframe tbody tr th {\n",
              "        vertical-align: top;\n",
              "    }\n",
              "\n",
              "    .dataframe thead th {\n",
              "        text-align: right;\n",
              "    }\n",
              "</style>\n",
              "<table border=\"1\" class=\"dataframe\">\n",
              "  <thead>\n",
              "    <tr style=\"text-align: right;\">\n",
              "      <th></th>\n",
              "      <th>Unnamed: 0</th>\n",
              "      <th>0</th>\n",
              "      <th>1</th>\n",
              "      <th>2</th>\n",
              "      <th>3</th>\n",
              "      <th>4</th>\n",
              "      <th>5</th>\n",
              "      <th>6</th>\n",
              "      <th>7</th>\n",
              "      <th>8</th>\n",
              "      <th>9</th>\n",
              "      <th>10</th>\n",
              "      <th>11</th>\n",
              "      <th>12</th>\n",
              "      <th>13</th>\n",
              "      <th>14</th>\n",
              "      <th>15</th>\n",
              "      <th>16</th>\n",
              "      <th>17</th>\n",
              "      <th>18</th>\n",
              "      <th>19</th>\n",
              "      <th>20</th>\n",
              "      <th>21</th>\n",
              "    </tr>\n",
              "  </thead>\n",
              "  <tbody>\n",
              "    <tr>\n",
              "      <th>0</th>\n",
              "      <td>0</td>\n",
              "      <td>1.1</td>\n",
              "      <td>1.4</td>\n",
              "      <td>1.4</td>\n",
              "      <td>1.4</td>\n",
              "      <td>1.3</td>\n",
              "      <td>1.30</td>\n",
              "      <td>1.30</td>\n",
              "      <td>1.30</td>\n",
              "      <td>1.30</td>\n",
              "      <td>1.30</td>\n",
              "      <td>1.30</td>\n",
              "      <td>1.30</td>\n",
              "      <td>2</td>\n",
              "      <td>2</td>\n",
              "      <td>2</td>\n",
              "      <td>2</td>\n",
              "      <td>1.2</td>\n",
              "      <td>1.2</td>\n",
              "      <td>1.2</td>\n",
              "      <td>1.2</td>\n",
              "      <td>1.4</td>\n",
              "      <td>no</td>\n",
              "    </tr>\n",
              "    <tr>\n",
              "      <th>1</th>\n",
              "      <td>1</td>\n",
              "      <td>1.0</td>\n",
              "      <td>1.0</td>\n",
              "      <td>1.0</td>\n",
              "      <td>1.0</td>\n",
              "      <td>1.0</td>\n",
              "      <td>1.00</td>\n",
              "      <td>1.00</td>\n",
              "      <td>1.00</td>\n",
              "      <td>1.00</td>\n",
              "      <td>1.00</td>\n",
              "      <td>1.00</td>\n",
              "      <td>1.00</td>\n",
              "      <td>1</td>\n",
              "      <td>1</td>\n",
              "      <td>1</td>\n",
              "      <td>1</td>\n",
              "      <td>1.0</td>\n",
              "      <td>1.0</td>\n",
              "      <td>1.0</td>\n",
              "      <td>1.0</td>\n",
              "      <td>1.0</td>\n",
              "      <td>yes</td>\n",
              "    </tr>\n",
              "    <tr>\n",
              "      <th>2</th>\n",
              "      <td>2</td>\n",
              "      <td>415.0</td>\n",
              "      <td>59.0</td>\n",
              "      <td>50.0</td>\n",
              "      <td>51.0</td>\n",
              "      <td>1159.0</td>\n",
              "      <td>8411.31</td>\n",
              "      <td>0.01</td>\n",
              "      <td>103.53</td>\n",
              "      <td>81.24</td>\n",
              "      <td>870848.58</td>\n",
              "      <td>2.80</td>\n",
              "      <td>48380.48</td>\n",
              "      <td>359</td>\n",
              "      <td>35</td>\n",
              "      <td>9</td>\n",
              "      <td>10</td>\n",
              "      <td>47.0</td>\n",
              "      <td>106.0</td>\n",
              "      <td>692.0</td>\n",
              "      <td>467.0</td>\n",
              "      <td>106.0</td>\n",
              "      <td>yes</td>\n",
              "    </tr>\n",
              "    <tr>\n",
              "      <th>3</th>\n",
              "      <td>3</td>\n",
              "      <td>230.0</td>\n",
              "      <td>33.0</td>\n",
              "      <td>10.0</td>\n",
              "      <td>16.0</td>\n",
              "      <td>575.0</td>\n",
              "      <td>3732.82</td>\n",
              "      <td>0.03</td>\n",
              "      <td>39.82</td>\n",
              "      <td>93.74</td>\n",
              "      <td>148644.06</td>\n",
              "      <td>1.24</td>\n",
              "      <td>8258.00</td>\n",
              "      <td>174</td>\n",
              "      <td>15</td>\n",
              "      <td>34</td>\n",
              "      <td>5</td>\n",
              "      <td>23.0</td>\n",
              "      <td>67.0</td>\n",
              "      <td>343.0</td>\n",
              "      <td>232.0</td>\n",
              "      <td>65.0</td>\n",
              "      <td>yes</td>\n",
              "    </tr>\n",
              "    <tr>\n",
              "      <th>4</th>\n",
              "      <td>4</td>\n",
              "      <td>175.0</td>\n",
              "      <td>26.0</td>\n",
              "      <td>12.0</td>\n",
              "      <td>13.0</td>\n",
              "      <td>500.0</td>\n",
              "      <td>3123.96</td>\n",
              "      <td>0.03</td>\n",
              "      <td>29.48</td>\n",
              "      <td>105.96</td>\n",
              "      <td>92103.07</td>\n",
              "      <td>1.04</td>\n",
              "      <td>5116.84</td>\n",
              "      <td>142</td>\n",
              "      <td>7</td>\n",
              "      <td>19</td>\n",
              "      <td>4</td>\n",
              "      <td>18.0</td>\n",
              "      <td>58.0</td>\n",
              "      <td>310.0</td>\n",
              "      <td>190.0</td>\n",
              "      <td>51.0</td>\n",
              "      <td>yes</td>\n",
              "    </tr>\n",
              "  </tbody>\n",
              "</table>\n",
              "</div>"
            ],
            "text/plain": [
              "   Unnamed: 0      0     1     2     3  ...     17     18     19     20   21\n",
              "0           0    1.1   1.4   1.4   1.4  ...    1.2    1.2    1.2    1.4   no\n",
              "1           1    1.0   1.0   1.0   1.0  ...    1.0    1.0    1.0    1.0  yes\n",
              "2           2  415.0  59.0  50.0  51.0  ...  106.0  692.0  467.0  106.0  yes\n",
              "3           3  230.0  33.0  10.0  16.0  ...   67.0  343.0  232.0   65.0  yes\n",
              "4           4  175.0  26.0  12.0  13.0  ...   58.0  310.0  190.0   51.0  yes\n",
              "\n",
              "[5 rows x 23 columns]"
            ]
          },
          "metadata": {
            "tags": []
          },
          "execution_count": 65
        }
      ]
    },
    {
      "cell_type": "code",
      "metadata": {
        "id": "1qqpq_pjYY36"
      },
      "source": [
        "# transformar label em numerico\n",
        "df01['21'] = df01['21'].astype('category')\n",
        "df01['21'] = df01['21'].cat.codes"
      ],
      "execution_count": 66,
      "outputs": []
    },
    {
      "cell_type": "code",
      "metadata": {
        "colab": {
          "base_uri": "https://localhost:8080/"
        },
        "id": "0v5a-HwRSGGo",
        "outputId": "bee83131-c71e-4ce2-f637-4b51f9711f09"
      },
      "source": [
        "# separar classe 0\n",
        "class0_df1 = df01[df01['21'] == 0]\n",
        "\n",
        "# separar classe 1\n",
        "class1_df1 = df01[df01['21'] == 1]\n",
        "\n",
        "print('Classe 0: ', class0_df1.shape, '\\nClasse 1: ', class1_df1.shape)"
      ],
      "execution_count": 67,
      "outputs": [
        {
          "output_type": "stream",
          "text": [
            "Classe 0:  (415, 23) \n",
            "Classe 1:  (107, 23)\n"
          ],
          "name": "stdout"
        }
      ]
    },
    {
      "cell_type": "code",
      "metadata": {
        "id": "B0snqCuhY7Wv"
      },
      "source": [
        "# separar labels classe 0\n",
        "X0_b1 = class0_df1.iloc[:, :-1].values\n",
        "y0_b1 = class0_df1.iloc[:, -1].values\n",
        "\n",
        "# separar labels classe 1\n",
        "X1_b1 = class1_df1.iloc[:, :-1].values\n",
        "y1_b1 = class1_df1.iloc[:, -1].values\n",
        "\n",
        "# gerar meta-classes a partir de função definida anteriormente\n",
        "k0_b1, y0_b1_new = generate_meta_classes(X0_b1, y0_b1)\n",
        "k1_b1, y1_b1_n = generate_meta_classes(X1_b1, y1_b1)"
      ],
      "execution_count": 68,
      "outputs": []
    },
    {
      "cell_type": "code",
      "metadata": {
        "colab": {
          "base_uri": "https://localhost:8080/"
        },
        "id": "EHoM00H9sNFC",
        "outputId": "f3d485c5-83f6-49ef-b993-a8f9dff18a72"
      },
      "source": [
        "# normalizar meta-classes da classe 1\n",
        "y1_b1_new = list(map(lambda x: x + k0_b1, y1_b1_n))\n",
        "\n",
        "# unir meta-classes\n",
        "X_b1 = np.concatenate((X0_b1, X1_b1),axis=0)\n",
        "y_b1 = np.concatenate((y0_b1_new, y1_b1_new), axis=0)\n",
        "\n",
        "# rodar gnb para meta-classes\n",
        "gnb_mc_score = gnb_clf(X_b1, y_b1)\n",
        "print(gnb_mc_score)"
      ],
      "execution_count": 69,
      "outputs": [
        {
          "output_type": "stream",
          "text": [
            "0.7688024967130704\n"
          ],
          "name": "stdout"
        },
        {
          "output_type": "stream",
          "text": [
            "/usr/local/lib/python3.7/dist-packages/sklearn/model_selection/_split.py:667: UserWarning: The least populated class in y has only 1 members, which is less than n_splits=5.\n",
            "  % (min_groups, self.n_splits)), UserWarning)\n"
          ],
          "name": "stderr"
        }
      ]
    },
    {
      "cell_type": "code",
      "metadata": {
        "colab": {
          "base_uri": "https://localhost:8080/"
        },
        "id": "Z4UyQuWOwiXK",
        "outputId": "b56bab48-fc4a-40d2-8cb1-2a7303cb8166"
      },
      "source": [
        "X_01 = df01.iloc[:, :-1].values\n",
        "y_01 = df01.iloc[:, -1].values\n",
        "\n",
        "# rodar gnb sem agrupamento\n",
        "gnb_score = gnb_clf(X_01, y_01)\n",
        "print(gnb_score)\n",
        "\n",
        "# rodar 1-nn sem agrupamento\n",
        "knn = KNeighborsClassifier(n_neighbors=1)\n",
        "knn_scores = cross_val_score(estimator=knn, X=X_01, y=y_01, scoring='f1_weighted')\n",
        "knn_score = np.mean(knn_scores)\n",
        "print(knn_score)"
      ],
      "execution_count": 70,
      "outputs": [
        {
          "output_type": "stream",
          "text": [
            "0.8177962828374727\n",
            "0.8250515966543702\n"
          ],
          "name": "stdout"
        }
      ]
    },
    {
      "cell_type": "markdown",
      "metadata": {
        "id": "JxE6EaJHLTot"
      },
      "source": [
        "## Base 02"
      ]
    },
    {
      "cell_type": "code",
      "metadata": {
        "colab": {
          "base_uri": "https://localhost:8080/",
          "height": 241
        },
        "id": "losml_2JLUxZ",
        "outputId": "aea5dc21-0dd2-4684-c12f-f54c32efb1b9"
      },
      "source": [
        "df02 = pd.read_csv('/content/base02.csv')\n",
        "df02.head()"
      ],
      "execution_count": 71,
      "outputs": [
        {
          "output_type": "execute_result",
          "data": {
            "text/html": [
              "<div>\n",
              "<style scoped>\n",
              "    .dataframe tbody tr th:only-of-type {\n",
              "        vertical-align: middle;\n",
              "    }\n",
              "\n",
              "    .dataframe tbody tr th {\n",
              "        vertical-align: top;\n",
              "    }\n",
              "\n",
              "    .dataframe thead th {\n",
              "        text-align: right;\n",
              "    }\n",
              "</style>\n",
              "<table border=\"1\" class=\"dataframe\">\n",
              "  <thead>\n",
              "    <tr style=\"text-align: right;\">\n",
              "      <th></th>\n",
              "      <th>Unnamed: 0</th>\n",
              "      <th>0</th>\n",
              "      <th>1</th>\n",
              "      <th>2</th>\n",
              "      <th>3</th>\n",
              "      <th>4</th>\n",
              "      <th>5</th>\n",
              "      <th>6</th>\n",
              "      <th>7</th>\n",
              "      <th>8</th>\n",
              "      <th>9</th>\n",
              "      <th>10</th>\n",
              "      <th>11</th>\n",
              "      <th>12</th>\n",
              "      <th>13</th>\n",
              "      <th>14</th>\n",
              "      <th>15</th>\n",
              "      <th>16</th>\n",
              "      <th>17</th>\n",
              "      <th>18</th>\n",
              "      <th>19</th>\n",
              "      <th>20</th>\n",
              "      <th>21</th>\n",
              "    </tr>\n",
              "  </thead>\n",
              "  <tbody>\n",
              "    <tr>\n",
              "      <th>0</th>\n",
              "      <td>0</td>\n",
              "      <td>1.1</td>\n",
              "      <td>1.4</td>\n",
              "      <td>1.4</td>\n",
              "      <td>1.4</td>\n",
              "      <td>1.3</td>\n",
              "      <td>1.30</td>\n",
              "      <td>1.30</td>\n",
              "      <td>1.30</td>\n",
              "      <td>1.30</td>\n",
              "      <td>1.30</td>\n",
              "      <td>1.30</td>\n",
              "      <td>1.30</td>\n",
              "      <td>2</td>\n",
              "      <td>2</td>\n",
              "      <td>2</td>\n",
              "      <td>2</td>\n",
              "      <td>1.2</td>\n",
              "      <td>1.2</td>\n",
              "      <td>1.2</td>\n",
              "      <td>1.2</td>\n",
              "      <td>1.4</td>\n",
              "      <td>False</td>\n",
              "    </tr>\n",
              "    <tr>\n",
              "      <th>1</th>\n",
              "      <td>1</td>\n",
              "      <td>1.0</td>\n",
              "      <td>1.0</td>\n",
              "      <td>1.0</td>\n",
              "      <td>1.0</td>\n",
              "      <td>1.0</td>\n",
              "      <td>1.00</td>\n",
              "      <td>1.00</td>\n",
              "      <td>1.00</td>\n",
              "      <td>1.00</td>\n",
              "      <td>1.00</td>\n",
              "      <td>1.00</td>\n",
              "      <td>1.00</td>\n",
              "      <td>1</td>\n",
              "      <td>1</td>\n",
              "      <td>1</td>\n",
              "      <td>1</td>\n",
              "      <td>1.0</td>\n",
              "      <td>1.0</td>\n",
              "      <td>1.0</td>\n",
              "      <td>1.0</td>\n",
              "      <td>1.0</td>\n",
              "      <td>True</td>\n",
              "    </tr>\n",
              "    <tr>\n",
              "      <th>2</th>\n",
              "      <td>2</td>\n",
              "      <td>83.0</td>\n",
              "      <td>11.0</td>\n",
              "      <td>1.0</td>\n",
              "      <td>11.0</td>\n",
              "      <td>171.0</td>\n",
              "      <td>927.89</td>\n",
              "      <td>0.04</td>\n",
              "      <td>23.04</td>\n",
              "      <td>40.27</td>\n",
              "      <td>21378.61</td>\n",
              "      <td>0.31</td>\n",
              "      <td>1187.70</td>\n",
              "      <td>65</td>\n",
              "      <td>10</td>\n",
              "      <td>6</td>\n",
              "      <td>0</td>\n",
              "      <td>18.0</td>\n",
              "      <td>25.0</td>\n",
              "      <td>107.0</td>\n",
              "      <td>64.0</td>\n",
              "      <td>21.0</td>\n",
              "      <td>True</td>\n",
              "    </tr>\n",
              "    <tr>\n",
              "      <th>3</th>\n",
              "      <td>3</td>\n",
              "      <td>46.0</td>\n",
              "      <td>8.0</td>\n",
              "      <td>6.0</td>\n",
              "      <td>8.0</td>\n",
              "      <td>141.0</td>\n",
              "      <td>769.78</td>\n",
              "      <td>0.07</td>\n",
              "      <td>14.86</td>\n",
              "      <td>51.81</td>\n",
              "      <td>11436.73</td>\n",
              "      <td>0.26</td>\n",
              "      <td>635.37</td>\n",
              "      <td>37</td>\n",
              "      <td>2</td>\n",
              "      <td>5</td>\n",
              "      <td>0</td>\n",
              "      <td>16.0</td>\n",
              "      <td>28.0</td>\n",
              "      <td>89.0</td>\n",
              "      <td>52.0</td>\n",
              "      <td>15.0</td>\n",
              "      <td>True</td>\n",
              "    </tr>\n",
              "    <tr>\n",
              "      <th>4</th>\n",
              "      <td>4</td>\n",
              "      <td>25.0</td>\n",
              "      <td>3.0</td>\n",
              "      <td>1.0</td>\n",
              "      <td>3.0</td>\n",
              "      <td>58.0</td>\n",
              "      <td>254.75</td>\n",
              "      <td>0.11</td>\n",
              "      <td>9.35</td>\n",
              "      <td>27.25</td>\n",
              "      <td>2381.95</td>\n",
              "      <td>0.08</td>\n",
              "      <td>132.33</td>\n",
              "      <td>21</td>\n",
              "      <td>0</td>\n",
              "      <td>2</td>\n",
              "      <td>0</td>\n",
              "      <td>11.0</td>\n",
              "      <td>10.0</td>\n",
              "      <td>41.0</td>\n",
              "      <td>17.0</td>\n",
              "      <td>5.0</td>\n",
              "      <td>True</td>\n",
              "    </tr>\n",
              "  </tbody>\n",
              "</table>\n",
              "</div>"
            ],
            "text/plain": [
              "   Unnamed: 0     0     1    2     3  ...    17     18    19    20     21\n",
              "0           0   1.1   1.4  1.4   1.4  ...   1.2    1.2   1.2   1.4  False\n",
              "1           1   1.0   1.0  1.0   1.0  ...   1.0    1.0   1.0   1.0   True\n",
              "2           2  83.0  11.0  1.0  11.0  ...  25.0  107.0  64.0  21.0   True\n",
              "3           3  46.0   8.0  6.0   8.0  ...  28.0   89.0  52.0  15.0   True\n",
              "4           4  25.0   3.0  1.0   3.0  ...  10.0   41.0  17.0   5.0   True\n",
              "\n",
              "[5 rows x 23 columns]"
            ]
          },
          "metadata": {
            "tags": []
          },
          "execution_count": 71
        }
      ]
    },
    {
      "cell_type": "code",
      "metadata": {
        "id": "HGr6R9sUL2rW"
      },
      "source": [
        "# transformar label em numerico\n",
        "df02['21'] = df02['21'].astype('category')\n",
        "df02['21'] = df02['21'].cat.codes"
      ],
      "execution_count": 72,
      "outputs": []
    },
    {
      "cell_type": "code",
      "metadata": {
        "colab": {
          "base_uri": "https://localhost:8080/"
        },
        "id": "Gwwipsq71rme",
        "outputId": "5ab9f6ba-cc50-4aec-db03-224b0c098b7b"
      },
      "source": [
        "# separar classe 0\n",
        "class0_df2 = df02[df02['21'] == 0]\n",
        "\n",
        "# separar classe 1\n",
        "class1_df2 = df02[df02['21'] == 1]\n",
        "\n",
        "print('Classe 0: ', class0_df2.shape, '\\nClasse 1: ', class1_df2.shape)"
      ],
      "execution_count": 73,
      "outputs": [
        {
          "output_type": "stream",
          "text": [
            "Classe 0:  (1783, 23) \n",
            "Classe 1:  (326, 23)\n"
          ],
          "name": "stdout"
        }
      ]
    },
    {
      "cell_type": "code",
      "metadata": {
        "id": "yJuAXR8W1y0S"
      },
      "source": [
        "# separar labels classe 0\n",
        "X0_b2 = class0_df2.iloc[:, :-1].values\n",
        "y0_b2 = class0_df2.iloc[:, -1].values\n",
        "\n",
        "# separar labels classe 1\n",
        "X1_b2 = class1_df2.iloc[:, :-1].values\n",
        "y1_b2 = class1_df2.iloc[:, -1].values\n",
        "\n",
        "# gerar meta-classes a partir de função definida anteriormente\n",
        "k0_b2, y0_b2_new = generate_meta_classes(X0_b2, y0_b2)\n",
        "k1_b2, y1_b2_n = generate_meta_classes(X1_b2, y1_b2)"
      ],
      "execution_count": 74,
      "outputs": []
    },
    {
      "cell_type": "code",
      "metadata": {
        "colab": {
          "base_uri": "https://localhost:8080/"
        },
        "id": "NqxpeAsO1_QJ",
        "outputId": "bc264484-506e-494d-881e-c9033d8bc76e"
      },
      "source": [
        "# normalizar meta-classes da classe 1\n",
        "y1_b2_new = list(map(lambda x: x + k0_b2, y1_b2_n))\n",
        "\n",
        "# unir meta-classes\n",
        "X_b2 = np.concatenate((X0_b2, X1_b2),axis=0)\n",
        "y_b2 = np.concatenate((y0_b2_new, y1_b2_new), axis=0)\n",
        "\n",
        "# rodar gnb para meta-classes\n",
        "gnb_mc_score = gnb_clf(X_b2, y_b2)\n",
        "print(gnb_mc_score)"
      ],
      "execution_count": 75,
      "outputs": [
        {
          "output_type": "stream",
          "text": [
            "0.8541886218915137\n"
          ],
          "name": "stdout"
        },
        {
          "output_type": "stream",
          "text": [
            "/usr/local/lib/python3.7/dist-packages/sklearn/model_selection/_split.py:667: UserWarning: The least populated class in y has only 1 members, which is less than n_splits=5.\n",
            "  % (min_groups, self.n_splits)), UserWarning)\n"
          ],
          "name": "stderr"
        }
      ]
    },
    {
      "cell_type": "code",
      "metadata": {
        "colab": {
          "base_uri": "https://localhost:8080/"
        },
        "id": "q0avE1B02D-D",
        "outputId": "3209ce0a-f224-4a46-9962-4399740b50fe"
      },
      "source": [
        "X_02 = df02.iloc[:, :-1].values\n",
        "y_02 = df02.iloc[:, -1].values\n",
        "\n",
        "# rodar gnb sem agrupamento\n",
        "gnb_score = gnb_clf(X_02, y_02)\n",
        "print(gnb_score)\n",
        "\n",
        "# rodar 1-nn sem agrupamento\n",
        "knn = KNeighborsClassifier(n_neighbors=1)\n",
        "knn_scores = cross_val_score(estimator=knn, X=X_02, y=y_02, scoring='f1_weighted')\n",
        "knn_score = np.mean(knn_scores)\n",
        "print(knn_score)"
      ],
      "execution_count": 76,
      "outputs": [
        {
          "output_type": "stream",
          "text": [
            "0.8620728241826983\n",
            "0.8875468139657918\n"
          ],
          "name": "stdout"
        }
      ]
    }
  ]
}